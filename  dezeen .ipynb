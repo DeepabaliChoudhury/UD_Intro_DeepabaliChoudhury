{
 "cells": [
  {
   "cell_type": "code",
   "execution_count": 12,
   "id": "6d2b3616",
   "metadata": {},
   "outputs": [],
   "source": [
    "# Import Selenium and its sub libraries\n",
    "\n",
    "import selenium \n",
    "from selenium import webdriver\n",
    "from selenium.webdriver.common.by import By\n",
    "from selenium.webdriver.common.keys import Keys\n",
    "from selenium.webdriver.support.ui import Select\n",
    "from selenium.webdriver.support.ui import WebDriverWait\n",
    "from selenium.webdriver.support import expected_conditions as EC\n",
    "from time import sleep\n",
    "import re"
   ]
  },
  {
   "cell_type": "code",
   "execution_count": 13,
   "id": "ddd2ae3f",
   "metadata": {},
   "outputs": [],
   "source": [
    "url=\"https://www.dezeen.com/\""
   ]
  },
  {
   "cell_type": "code",
   "execution_count": 14,
   "id": "30ecf45c",
   "metadata": {},
   "outputs": [],
   "source": [
    "#Create lists\n",
    "\n",
    "magazines_list = []\n",
    "author_list=[]\n",
    "link_list = []"
   ]
  },
  {
   "cell_type": "code",
   "execution_count": 15,
   "id": "71e42306",
   "metadata": {},
   "outputs": [],
   "source": [
    "driver = webdriver.Chrome()\n",
    "driver.get(url)\n",
    "\n",
    "#Accept cookies\n",
    "\n",
    "driver.find_element(\"xpath\", '//*[@id=\"CybotCookiebotDialogBodyLevelButtonLevelOptinAllowAll\"]').click()"
   ]
  },
  {
   "cell_type": "code",
   "execution_count": 16,
   "id": "5b39223a",
   "metadata": {},
   "outputs": [],
   "source": [
    "#to maximize and give break\n",
    "\n",
    "driver.maximize_window()\n",
    "driver.implicitly_wait(2)\n",
    "\n",
    "#search \n",
    "\n",
    "search_query = driver.find_element(\"xpath\" , '//*[@id=\"ais-SearchBox-input\"]' )\n",
    "\n",
    "search_query.send_keys('Architecture')\n",
    "search_query.send_keys(Keys.RETURN)\n",
    "\n",
    "sleep(1)"
   ]
  },
  {
   "cell_type": "code",
   "execution_count": 22,
   "id": "5c5d21a9",
   "metadata": {},
   "outputs": [],
   "source": [
    "def extract_page_data(driver):\n",
    "    \n",
    "    #grab all articles\n",
    "    \n",
    "    magazines = driver.find_elements(\"class name\" , \"ais-Hits-item\") \n",
    "    \n",
    "    \n",
    "    for b in range(len(magazines)):\n",
    "         \n",
    "            #Extraction of title\n",
    "            title = magazines[b].find_element( \"class name\", 'name headline comment-origin').text\n",
    "            \n",
    "            #Extraction of authors\n",
    "            authors=magazines[b].find_element(\"xpath\" , '//*[@id=\"algolia-hits\"]/div/div/ol/li[1]/article/div[2]/span[1]/a').text\n",
    "                  \n",
    "    \n",
    "            magazines_list.append(title)\n",
    "            author_list.append(authors)\n",
    "            sleep(2)  \n",
    "        \n",
    "    \n",
    "       "
   ]
  },
  {
   "cell_type": "code",
   "execution_count": null,
   "id": "385e7d28",
   "metadata": {},
   "outputs": [],
   "source": [
    "\n",
    "for page_num in range(0,3):\n",
    "    extract_page_data(driver)\n",
    "    show_list = driver.find_element(\"xpath\",\"/html/body/div[2]/div/header/div[2]/aside/h2\")\n",
    "    show_list.click()"
   ]
  },
  {
   "cell_type": "code",
   "execution_count": null,
   "id": "bf5b9bc9",
   "metadata": {},
   "outputs": [],
   "source": []
  }
 ],
 "metadata": {
  "kernelspec": {
   "display_name": "Python 3 (ipykernel)",
   "language": "python",
   "name": "python3"
  },
  "language_info": {
   "codemirror_mode": {
    "name": "ipython",
    "version": 3
   },
   "file_extension": ".py",
   "mimetype": "text/x-python",
   "name": "python",
   "nbconvert_exporter": "python",
   "pygments_lexer": "ipython3",
   "version": "3.8.18"
  }
 },
 "nbformat": 4,
 "nbformat_minor": 5
}
