{
 "cells": [
  {
   "cell_type": "markdown",
   "id": "38e188a5",
   "metadata": {},
   "source": [
    "# Exercise 00\n",
    "Write a piece of code that allocates a list of 20 integers and initializes each element by its index multiplied by 5. Print the result."
   ]
  },
  {
   "cell_type": "code",
   "execution_count": 3,
   "id": "01aa4f35",
   "metadata": {},
   "outputs": [
    {
     "name": "stdout",
     "output_type": "stream",
     "text": [
      "[0, 5, 10, 15, 20, 25, 30, 35, 40, 45, 50, 55, 60, 65, 70, 75, 80, 85, 90, 95]\n"
     ]
    }
   ],
   "source": [
    "myList = []\n",
    "for i in range(0,20) :\n",
    "    myList.append(i*5)\n",
    "print(myList)"
   ]
  },
  {
   "cell_type": "markdown",
   "id": "529d91ae",
   "metadata": {},
   "source": [
    "# Exercise 01\n",
    "Define a function that takes an integer as input, prints  all integers that it is divisable by, and returns the largest one."
   ]
  },
  {
   "cell_type": "code",
   "execution_count": 30,
   "id": "30e79132",
   "metadata": {},
   "outputs": [],
   "source": [
    "def number(n) :\n",
    "    div = 1\n",
    "    for i in range(1, int(n)+1) :\n",
    "        if n % i == 0 :\n",
    "            div = i\n",
    "            print (i)\n",
    "    return div\n",
    "                      \n"
   ]
  },
  {
   "cell_type": "code",
   "execution_count": 31,
   "id": "cb038609",
   "metadata": {},
   "outputs": [
    {
     "name": "stdout",
     "output_type": "stream",
     "text": [
      "1\n",
      "2\n",
      "3\n",
      "5\n",
      "6\n",
      "9\n",
      "10\n",
      "15\n",
      "18\n",
      "30\n",
      "45\n",
      "90\n"
     ]
    },
    {
     "data": {
      "text/plain": [
       "90"
      ]
     },
     "execution_count": 31,
     "metadata": {},
     "output_type": "execute_result"
    }
   ],
   "source": [
    "number(90)\n"
   ]
  },
  {
   "cell_type": "markdown",
   "id": "cfbe30d4",
   "metadata": {},
   "source": [
    "# Exercise 02\n",
    "- create a dictionary with 6 keys and values of your choice\n",
    "- write a function that takes a dictionary and a value as input and returns whether the value occurs as a key in the dictionary\n",
    "- write a function that takes a dictionary as input, and returns the dictionary but the keys are swapped with their values (resolve the issue if a value occurs twice!)"
   ]
  },
  {
   "cell_type": "code",
   "execution_count": 70,
   "id": "194317ed",
   "metadata": {},
   "outputs": [
    {
     "name": "stdout",
     "output_type": "stream",
     "text": [
      "{'red': 'love', 'blue': 'cool', 'yellow': 'bright', 'black': 'dark', 'pink': 'cute'}\n"
     ]
    }
   ],
   "source": [
    "thisDist = { 'red' : 'love',\n",
    "    'blue' : 'cool',\n",
    "    'yellow' : 'bright',\n",
    "    'black' : 'dark',\n",
    "    'pink' : 'cute'}\n",
    "print (thisDist)"
   ]
  },
  {
   "cell_type": "code",
   "execution_count": 78,
   "id": "5bf3bc3f",
   "metadata": {},
   "outputs": [],
   "source": [
    "def swapDist(input_dict):\n",
    "    \n",
    "    swapped_dict = {value: key for key, value in input_dict.items()}\n",
    "    \n",
    "    return swapped_dict\n",
    "\n"
   ]
  },
  {
   "cell_type": "code",
   "execution_count": 77,
   "id": "b6e1c7e3",
   "metadata": {},
   "outputs": [
    {
     "ename": "NameError",
     "evalue": "name 'swapped_dict' is not defined",
     "output_type": "error",
     "traceback": [
      "\u001b[1;31m---------------------------------------------------------------------------\u001b[0m",
      "\u001b[1;31mNameError\u001b[0m                                 Traceback (most recent call last)",
      "Cell \u001b[1;32mIn[77], line 2\u001b[0m\n\u001b[0;32m      1\u001b[0m input_dict \u001b[38;5;241m=\u001b[39m {\u001b[38;5;124m'\u001b[39m\u001b[38;5;124ma\u001b[39m\u001b[38;5;124m'\u001b[39m: \u001b[38;5;241m1\u001b[39m, \u001b[38;5;124m'\u001b[39m\u001b[38;5;124mb\u001b[39m\u001b[38;5;124m'\u001b[39m: \u001b[38;5;241m2\u001b[39m, \u001b[38;5;124m'\u001b[39m\u001b[38;5;124mc\u001b[39m\u001b[38;5;124m'\u001b[39m: \u001b[38;5;241m3\u001b[39m}\n\u001b[1;32m----> 2\u001b[0m \u001b[38;5;28mprint\u001b[39m(\u001b[43mswapped_dict\u001b[49m)\n",
      "\u001b[1;31mNameError\u001b[0m: name 'swapped_dict' is not defined"
     ]
    }
   ],
   "source": [
    "input_dict = {'a': 1, 'b': 2, 'c': 3}\n",
    "print(swapped_dict)"
   ]
  },
  {
   "cell_type": "markdown",
   "id": "b4b4e426",
   "metadata": {},
   "source": [
    "# Exercise 03\n",
    "Define a function that creates a dictionary of the first n fibonacci numbers as values paired with their indices as keys. "
   ]
  },
  {
   "cell_type": "code",
   "execution_count": 81,
   "id": "7845b5a4",
   "metadata": {},
   "outputs": [],
   "source": [
    "def thisDict(n) :\n",
    "    fibonacci ={}\n",
    "    n1 = 0\n",
    "    n2 = 1\n",
    "    while n1 < n :\n",
    "        m = n1 +n2\n",
    "        n1 = n2\n",
    "        n2 = m\n",
    "    return fibonacci\n"
   ]
  },
  {
   "cell_type": "code",
   "execution_count": 82,
   "id": "bddbabd6",
   "metadata": {},
   "outputs": [
    {
     "data": {
      "text/plain": [
       "{}"
      ]
     },
     "execution_count": 82,
     "metadata": {},
     "output_type": "execute_result"
    }
   ],
   "source": [
    "thisDict(10)"
   ]
  },
  {
   "cell_type": "code",
   "execution_count": null,
   "id": "76a2a575",
   "metadata": {},
   "outputs": [],
   "source": []
  }
 ],
 "metadata": {
  "kernelspec": {
   "display_name": "Python 3 (ipykernel)",
   "language": "python",
   "name": "python3"
  },
  "language_info": {
   "codemirror_mode": {
    "name": "ipython",
    "version": 3
   },
   "file_extension": ".py",
   "mimetype": "text/x-python",
   "name": "python",
   "nbconvert_exporter": "python",
   "pygments_lexer": "ipython3",
   "version": "3.8.18"
  }
 },
 "nbformat": 4,
 "nbformat_minor": 5
}
